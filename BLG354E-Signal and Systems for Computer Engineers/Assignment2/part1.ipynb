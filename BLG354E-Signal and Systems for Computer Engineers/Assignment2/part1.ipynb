{
 "cells": [
  {
   "cell_type": "code",
   "execution_count": 1,
   "metadata": {},
   "outputs": [
    {
     "name": "stdout",
     "output_type": "stream",
     "text": [
      "[ 9  9 11  5  2]\n"
     ]
    }
   ],
   "source": [
    "import numpy as np\n",
    "x=np.array([3,1,2])\n",
    "h=np.array([3,2,1])\n",
    "print(np.convolve(x,h))"
   ]
  },
  {
   "cell_type": "code",
   "execution_count": 2,
   "metadata": {},
   "outputs": [],
   "source": [
    "def convolution(x,h):\n",
    "    size=max(len(x), len(h))\n",
    "  #  print(x.shape)\n",
    "    if(len(x)>len(h)):\n",
    "        result = np.zeros(x.shape)\n",
    "        result[:h.shape[0]] = h\n",
    "        h=result\n",
    "    if(len(h)>len(x)):\n",
    "        result = np.zeros(h.shape)\n",
    "        result[:x.shape[0]] = x\n",
    "        x=result\n",
    "    result=np.zeros(len(x)+len(h)-1)\n",
    "    for n in range(len(x)):\n",
    "        for k in range(len(h)):\n",
    "            #print(k)\n",
    "           \n",
    "              #  print(\"k: \",k)\n",
    "              #  print(x[k]*h[n-k])\n",
    "            result[n+k]=result[n+k]+x[n]*h[k]\n",
    "          \n",
    "        \n",
    "    return result"
   ]
  },
  {
   "cell_type": "code",
   "execution_count": 3,
   "metadata": {},
   "outputs": [
    {
     "name": "stdout",
     "output_type": "stream",
     "text": [
      "[0. 1. 3. 6. 6. 5. 3.]\n"
     ]
    }
   ],
   "source": [
    "#a\n",
    "x=np.array([0,1,2,3])\n",
    "h=np.array([1,1,1,1])\n",
    "print(convolution(x,h))"
   ]
  },
  {
   "cell_type": "code",
   "execution_count": 4,
   "metadata": {},
   "outputs": [
    {
     "name": "stdout",
     "output_type": "stream",
     "text": [
      "[0. 1. 2. 3. 0. 0. 0.]\n"
     ]
    }
   ],
   "source": [
    "#b\n",
    "x=np.array([0,1,2,3])\n",
    "h=np.array([1])\n",
    "print(convolution(x,h))"
   ]
  },
  {
   "cell_type": "code",
   "execution_count": 5,
   "metadata": {},
   "outputs": [
    {
     "name": "stdout",
     "output_type": "stream",
     "text": [
      "[ 0.  0.  1.  4. 10. 12.  9.]\n"
     ]
    }
   ],
   "source": [
    "#c\n",
    "x=np.array([0,1,2,3])\n",
    "h=np.array([0,1,2,3])\n",
    "print(convolution(x,h))"
   ]
  },
  {
   "cell_type": "code",
   "execution_count": 6,
   "metadata": {},
   "outputs": [
    {
     "name": "stdout",
     "output_type": "stream",
     "text": [
      "[1. 2. 1. 4. 7. 6. 0. 0. 0.]\n"
     ]
    }
   ],
   "source": [
    "#d\n",
    "x=np.array([1,0,1,2,3])\n",
    "h=np.array([1,2])\n",
    "print(convolution(x,h))"
   ]
  },
  {
   "cell_type": "code",
   "execution_count": null,
   "metadata": {},
   "outputs": [],
   "source": []
  }
 ],
 "metadata": {
  "kernelspec": {
   "display_name": "Python 3",
   "language": "python",
   "name": "python3"
  },
  "language_info": {
   "codemirror_mode": {
    "name": "ipython",
    "version": 3
   },
   "file_extension": ".py",
   "mimetype": "text/x-python",
   "name": "python",
   "nbconvert_exporter": "python",
   "pygments_lexer": "ipython3",
   "version": "3.8.1"
  }
 },
 "nbformat": 4,
 "nbformat_minor": 4
}
