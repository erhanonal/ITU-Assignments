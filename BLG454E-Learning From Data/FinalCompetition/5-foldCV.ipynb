{
 "cells": [
  {
   "cell_type": "code",
   "execution_count": 1,
   "metadata": {},
   "outputs": [
    {
     "name": "stdout",
     "output_type": "stream",
     "text": [
      "MSE Error:  0.00403882906149463\n"
     ]
    }
   ],
   "source": [
    "import pandas as pd\n",
    "from sklearn.model_selection import KFold\n",
    "import numpy as np\n",
    "from sklearn.metrics import mean_squared_error\n",
    "from sklearn.neighbors import NearestNeighbors\n",
    "\n",
    "def weightedNeighbourSingularTest(data_t0, data_t1, neighbourCount):\n",
    "    kf = KFold(n_splits=5)\n",
    "    prediction_all = np.zeros_like(data_t1)\n",
    "    for trainIndex, testIndex in kf.split(data_t0):\n",
    "        train_t0, test_t0 = data_t0[trainIndex], data_t0[testIndex] #Split Data into train and test sets\n",
    "        train_t1, test_t1 = data_t1[trainIndex], data_t1[testIndex]\n",
    "        train_t0_single = np.transpose(train_t0) # Use features as rows and subjects as columns\n",
    "        train_t1_single = np.transpose(train_t1)\n",
    "        test_t0_single = np.transpose(test_t0) \n",
    "        \n",
    "        prediction = np.zeros_like(test_t0)\n",
    "        for i in range(train_t0_single.shape[0]): #Loop through each feature\n",
    "            nbrs = NearestNeighbors(n_neighbors= neighbourCount, algorithm='ball_tree').fit(train_t0_single[i].reshape(-1,1))\n",
    "            distances, indices = nbrs.kneighbors(test_t0_single[i].reshape(-1,1))# Calculate the distances and indices of K closest neighbours of test subjects and train subjects in t0 \n",
    "            distances = np.ones_like(distances)* 0.7 - distances # Set distances to (0.7 - d). Neighbours with low distance get larger values and vice versa  \n",
    "            mul = np.multiply(distances, train_t1_single[i,indices])  # Use the changed distances as weights and multiply the corresponding t1 of the neighbours \n",
    "            pred = np.divide(np.mean(mul,axis =1),np.mean(distances, axis = 1)) #Take the mean of the weighted t1's and divide by the mean of distances to normalize \n",
    "            prediction[:,i] = pred.reshape(-1) #This is the prediction for this feature acroos all test subjects\n",
    "        nanLocations = np.isnan(prediction)\n",
    "        prediction[nanLocations] = 0   # Set nan locations to 0\n",
    "        prediction_all[testIndex] = prediction # Put all predictions for each CV fold into prediction_all\n",
    "    error = mean_squared_error(data_t1, prediction_all)\n",
    "    return error, prediction_all\n",
    "\n",
    "\n",
    "train_t0 = pd.read_csv(\"train_t0.csv\", sep=',')\n",
    "train_t1 = pd.read_csv(\"train_t1.csv\", sep=',')\n",
    "\n",
    "\n",
    "\n",
    "train_t0 = train_t0.drop(columns=['ID'])\n",
    "train_t1 = train_t1.drop(columns=['ID'])\n",
    "\n",
    "\n",
    "train_t0_np = train_t0.to_numpy()\n",
    "train_t1_np = train_t1.to_numpy()\n",
    "\n",
    "      \n",
    "neighbourCount = 55\n",
    "\n",
    "error, prediction  = weightedNeighbourSingularTest(train_t0_np, train_t1_np,neighbourCount)\n",
    "\n",
    "\n",
    "print(\"MSE Error: \",error)\n",
    "\n",
    "test_df = pd.DataFrame(prediction)\n",
    "\n",
    "melted_df = test_df.to_numpy().flatten()\n",
    "\n",
    "melted_df = pd.DataFrame(data=melted_df, columns=['Predicted'])\n",
    "\n",
    "melted_df['ID'] = [i for i in range(len(melted_df))]\n",
    "\n",
    "melted_df = melted_df[['ID', 'Predicted']]\n",
    "\n",
    "melted_df.to_csv('prediction.csv', index=False)"
   ]
  },
  {
   "cell_type": "code",
   "execution_count": null,
   "metadata": {},
   "outputs": [],
   "source": []
  }
 ],
 "metadata": {
  "kernelspec": {
   "display_name": "Python 3",
   "language": "python",
   "name": "python3"
  },
  "language_info": {
   "codemirror_mode": {
    "name": "ipython",
    "version": 3
   },
   "file_extension": ".py",
   "mimetype": "text/x-python",
   "name": "python",
   "nbconvert_exporter": "python",
   "pygments_lexer": "ipython3",
   "version": "3.8.1"
  }
 },
 "nbformat": 4,
 "nbformat_minor": 4
}
